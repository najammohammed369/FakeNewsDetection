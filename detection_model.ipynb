{
 "cells": [
  {
   "metadata": {},
   "cell_type": "markdown",
   "source": "****Import Libraries****",
   "id": "8518d64a3834f117"
  },
  {
   "cell_type": "code",
   "id": "initial_id",
   "metadata": {
    "collapsed": true,
    "ExecuteTime": {
     "end_time": "2025-07-13T09:18:54.951302Z",
     "start_time": "2025-07-13T09:18:54.944834Z"
    }
   },
   "source": [
    "import pandas as pd\n",
    "import re\n",
    "import nltk\n",
    "from nltk.corpus import stopwords\n",
    "from sklearn.feature_extraction.text import TfidfVectorizer\n",
    "from sklearn.model_selection import train_test_split\n",
    "from sklearn.linear_model import LogisticRegression\n",
    "from sklearn.metrics import accuracy_score, classification_report\n",
    "import pickle"
   ],
   "outputs": [],
   "execution_count": 12
  },
  {
   "metadata": {},
   "cell_type": "markdown",
   "source": "****Download Stopwords****",
   "id": "76b0a02cbb397171"
  },
  {
   "metadata": {
    "ExecuteTime": {
     "end_time": "2025-07-13T08:52:52.913589Z",
     "start_time": "2025-07-13T08:52:52.049481Z"
    }
   },
   "cell_type": "code",
   "source": [
    "nltk.download('stopwords')\n",
    "stop_words = set(stopwords.words('english'))"
   ],
   "id": "58c4c605138db6d9",
   "outputs": [
    {
     "name": "stderr",
     "output_type": "stream",
     "text": [
      "[nltk_data] Downloading package stopwords to\n",
      "[nltk_data]     C:\\Users\\najam\\AppData\\Roaming\\nltk_data...\n",
      "[nltk_data]   Package stopwords is already up-to-date!\n"
     ]
    }
   ],
   "execution_count": 2
  },
  {
   "metadata": {},
   "cell_type": "markdown",
   "source": "****Load Dataset****",
   "id": "dd8dc437d051d309"
  },
  {
   "metadata": {
    "ExecuteTime": {
     "end_time": "2025-07-13T08:58:55.148342Z",
     "start_time": "2025-07-13T08:58:53.061917Z"
    }
   },
   "cell_type": "code",
   "source": [
    "fake_df = pd.read_csv('C:\\\\Users\\\\najam\\\\PycharmProjects\\\\FakeNews_Detection\\\\fakenews_dataset\\\\Fake.csv')\n",
    "true_df = pd.read_csv('C:\\\\Users\\\\najam\\\\PycharmProjects\\\\FakeNews_Detection\\\\fakenews_dataset\\\\True.csv')\n",
    "\n",
    "#Add labels to news\n",
    "fake_df['label'] = 0\n",
    "true_df['label'] = 1\n",
    "\n",
    "#merge both dataframes\n",
    "dataset = pd.concat([fake_df, true_df], axis=0).sample(frac=1, random_state=42).reset_index(drop=True)"
   ],
   "id": "1e93feac8663cc3",
   "outputs": [],
   "execution_count": 3
  },
  {
   "metadata": {},
   "cell_type": "markdown",
   "source": "****Cleaning the data****",
   "id": "46b63aa5bd0d2187"
  },
  {
   "metadata": {
    "ExecuteTime": {
     "end_time": "2025-07-13T09:05:01.166176Z",
     "start_time": "2025-07-13T09:04:42.396152Z"
    }
   },
   "cell_type": "code",
   "source": [
    "def clean_text(text):\n",
    "    if not isinstance(text, str):\n",
    "        return ''\n",
    "    text = text.lower()\n",
    "    text = re.sub(r'[^a-zA-Z\\s]', ' ', text)    #Remove punctuation/numbers\n",
    "    text = re.sub(r'\\s+', ' ', text).strip()\n",
    "    text = ' '.join([word for word in text.split() if word not in stop_words])\n",
    "    return text\n",
    "\n",
    "\n",
    "#Apply function on dataset\n",
    "dataset['text'] = dataset['text'].apply(clean_text)\n",
    "dataset = dataset[dataset['text'].str.strip() != ''].reset_index(drop=True)"
   ],
   "id": "7a12d549458e5942",
   "outputs": [],
   "execution_count": 4
  },
  {
   "metadata": {},
   "cell_type": "markdown",
   "source": "****Split dataset into train, test and validation****",
   "id": "12a1e4064db3cd29"
  },
  {
   "metadata": {
    "ExecuteTime": {
     "end_time": "2025-07-13T09:07:17.501556Z",
     "start_time": "2025-07-13T09:07:17.424871Z"
    }
   },
   "cell_type": "code",
   "source": [
    "train_valid, test = train_test_split(dataset, test_size=0.2, stratify=dataset['label'], random_state=42)\n",
    "train, valid = train_test_split(train_valid, test_size=0.1,stratify=train_valid['label'], random_state=42)"
   ],
   "id": "b511500bf675e912",
   "outputs": [],
   "execution_count": 5
  },
  {
   "metadata": {},
   "cell_type": "markdown",
   "source": "****Vectorize dataset****",
   "id": "3f410b35c635a8dd"
  },
  {
   "metadata": {
    "ExecuteTime": {
     "end_time": "2025-07-13T09:09:07.779864Z",
     "start_time": "2025-07-13T09:08:57.732223Z"
    }
   },
   "cell_type": "code",
   "source": [
    "vectorizer = TfidfVectorizer(max_features=5000)\n",
    "\n",
    "X_train = vectorizer.fit_transform(train['text'])\n",
    "X_valid = vectorizer.transform(valid['text'])\n",
    "X_test = vectorizer.transform(test['text'])\n",
    "\n",
    "y_train = train['label']\n",
    "y_valid = valid['label']\n",
    "y_test = test['label']"
   ],
   "id": "a672e4ca77c9688",
   "outputs": [],
   "execution_count": 6
  },
  {
   "metadata": {},
   "cell_type": "markdown",
   "source": "****Train the Model****",
   "id": "f0d31812c3f90450"
  },
  {
   "metadata": {
    "ExecuteTime": {
     "end_time": "2025-07-13T09:15:43.183982Z",
     "start_time": "2025-07-13T09:15:42.879543Z"
    }
   },
   "cell_type": "code",
   "source": [
    "model = LogisticRegression()\n",
    "model.fit(X_train, y_train)\n",
    "\n",
    "#Validation performance\n",
    "y_pred = model.predict(X_valid)\n",
    "print(\"Validation Accuracy: \", accuracy_score(y_valid, y_pred))\n",
    "print(classification_report(y_valid, y_pred))"
   ],
   "id": "7b568d2f701f5614",
   "outputs": [
    {
     "name": "stdout",
     "output_type": "stream",
     "text": [
      "Validation Accuracy:  0.9906832298136646\n",
      "              precision    recall  f1-score   support\n",
      "\n",
      "           0       0.99      0.99      0.99      1828\n",
      "           1       0.99      0.99      0.99      1714\n",
      "\n",
      "    accuracy                           0.99      3542\n",
      "   macro avg       0.99      0.99      0.99      3542\n",
      "weighted avg       0.99      0.99      0.99      3542\n",
      "\n"
     ]
    }
   ],
   "execution_count": 8
  },
  {
   "metadata": {},
   "cell_type": "markdown",
   "source": "****Evaluation on Test Set****",
   "id": "2f86c1bb5a55d64f"
  },
  {
   "metadata": {
    "ExecuteTime": {
     "end_time": "2025-07-13T09:17:07.187745Z",
     "start_time": "2025-07-13T09:17:07.143113Z"
    }
   },
   "cell_type": "code",
   "source": [
    "y_test_pred = model.predict(X_test)\n",
    "print(\"Test Accuracy: \", accuracy_score(y_test, y_test_pred))\n",
    "print(classification_report(y_test, y_test_pred))"
   ],
   "id": "c468f1f625586378",
   "outputs": [
    {
     "name": "stdout",
     "output_type": "stream",
     "text": [
      "Test Accuracy:  0.9881409532414728\n",
      "              precision    recall  f1-score   support\n",
      "\n",
      "           0       0.99      0.99      0.99      4570\n",
      "           1       0.98      0.99      0.99      4284\n",
      "\n",
      "    accuracy                           0.99      8854\n",
      "   macro avg       0.99      0.99      0.99      8854\n",
      "weighted avg       0.99      0.99      0.99      8854\n",
      "\n"
     ]
    }
   ],
   "execution_count": 9
  },
  {
   "metadata": {},
   "cell_type": "markdown",
   "source": "",
   "id": "6a87e78bc03b1f55"
  },
  {
   "metadata": {},
   "cell_type": "markdown",
   "source": "****Save Model****\n",
   "id": "817362fb2e6d7c78"
  },
  {
   "metadata": {
    "ExecuteTime": {
     "end_time": "2025-07-13T09:19:03.345564Z",
     "start_time": "2025-07-13T09:19:03.283376Z"
    }
   },
   "cell_type": "code",
   "source": [
    "with open('model/model.pkl', 'wb') as f:\n",
    "    pickle.dump(model, f)\n",
    "\n",
    "#save vectorizer\n",
    "with open('model/vectorizer.pkl', 'wb') as f:\n",
    "    pickle.dump(vectorizer, f)"
   ],
   "id": "601d7589a277b7f9",
   "outputs": [],
   "execution_count": 13
  },
  {
   "metadata": {},
   "cell_type": "code",
   "outputs": [],
   "execution_count": null,
   "source": "",
   "id": "37c751aed34acf33"
  }
 ],
 "metadata": {
  "kernelspec": {
   "display_name": "Python 3",
   "language": "python",
   "name": "python3"
  },
  "language_info": {
   "codemirror_mode": {
    "name": "ipython",
    "version": 2
   },
   "file_extension": ".py",
   "mimetype": "text/x-python",
   "name": "python",
   "nbconvert_exporter": "python",
   "pygments_lexer": "ipython2",
   "version": "2.7.6"
  }
 },
 "nbformat": 4,
 "nbformat_minor": 5
}
